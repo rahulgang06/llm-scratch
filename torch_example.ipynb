{
 "cells": [
  {
   "cell_type": "code",
   "execution_count": 33,
   "id": "6aa5e488-86d4-40e9-920c-1262877c1b60",
   "metadata": {},
   "outputs": [],
   "source": [
    "import torch"
   ]
  },
  {
   "cell_type": "code",
   "execution_count": 100,
   "id": "dfd4dec2-a503-492d-97c4-575539702202",
   "metadata": {},
   "outputs": [
    {
     "name": "stdout",
     "output_type": "stream",
     "text": [
      "tensor([[[0.4599, 0.6607, 0.5605, 0.5421, 0.7378],\n",
      "         [0.7383, 0.7016, 0.8863, 0.4592, 0.6458]]])\n"
     ]
    }
   ],
   "source": [
    "input = torch.rand(1,2,5)\n",
    "print(input)\n",
    "# randint = torch.randint(5,(3,))\n",
    "# # out=randint.transpose(0,2)\n",
    "# print(randint.shape)\n"
   ]
  },
  {
   "cell_type": "code",
   "execution_count": 102,
   "id": "09e178e3-cfb6-46f6-bd4b-10c30e73c2b9",
   "metadata": {},
   "outputs": [
    {
     "name": "stdout",
     "output_type": "stream",
     "text": [
      "tensor([[0.7383, 0.7016, 0.8863, 0.4592, 0.6458]])\n"
     ]
    }
   ],
   "source": [
    "input1 = input[:,-1,:]\n",
    "print(input1)"
   ]
  },
  {
   "cell_type": "code",
   "execution_count": 65,
   "id": "0b609f79-be17-49b9-bf70-da49a5d0c7f9",
   "metadata": {},
   "outputs": [
    {
     "name": "stdout",
     "output_type": "stream",
     "text": [
      "tensor([[0.]])\n"
     ]
    }
   ],
   "source": [
    "randint = torch.zeros(1,1)\n",
    "print(randint)"
   ]
  },
  {
   "cell_type": "code",
   "execution_count": null,
   "id": "1315c566-1d3b-4d13-8b0b-4dec088ec1f1",
   "metadata": {},
   "outputs": [],
   "source": []
  }
 ],
 "metadata": {
  "kernelspec": {
   "display_name": "cuda-gpt",
   "language": "python",
   "name": "cuda"
  },
  "language_info": {
   "codemirror_mode": {
    "name": "ipython",
    "version": 3
   },
   "file_extension": ".py",
   "mimetype": "text/x-python",
   "name": "python",
   "nbconvert_exporter": "python",
   "pygments_lexer": "ipython3",
   "version": "3.12.4"
  }
 },
 "nbformat": 4,
 "nbformat_minor": 5
}
